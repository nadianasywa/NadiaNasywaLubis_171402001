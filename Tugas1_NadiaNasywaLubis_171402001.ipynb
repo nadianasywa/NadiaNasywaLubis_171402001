{
 "cells": [
  {
   "cell_type": "code",
   "execution_count": 2,
   "metadata": {},
   "outputs": [],
   "source": [
    "class Fibonacci:\n",
    "    def hitung_fibonacci(this,bil):\n",
    "        this.bil = bil\n",
    "        this.fibonacci(0,1,this.bil)\n",
    "    def fibonacci(this,bila1,bila2,limit):\n",
    "        if(bilangan1 == 0):\n",
    "            print(bila1)\n",
    "            print(bila2)\n",
    "            print(bila2+bila1)\n",
    "            this.fibonacci(bila2,bila1+bila2,limit)\n",
    "        elif(bila1 + bila2 < limit):\n",
    "            print(bila1+bila2)\n",
    "            this.fibonacci(bila2,bila1+bila2,limit)\n",
    "        \n",
    "        "
   ]
  },
  {
   "cell_type": "code",
   "execution_count": 3,
   "metadata": {},
   "outputs": [
    {
     "name": "stdout",
     "output_type": "stream",
     "text": [
      "0\n",
      "1\n",
      "1\n",
      "2\n",
      "3\n",
      "5\n",
      "8\n",
      "13\n"
     ]
    }
   ],
   "source": [
    "bil = int(in)\n",
    "contoh = Tugas1(16)"
   ]
  },
  {
   "cell_type": "code",
   "execution_count": 21,
   "metadata": {},
   "outputs": [
    {
     "name": "stdout",
     "output_type": "stream",
     "text": [
      "0\n",
      "1\n",
      "1\n",
      "2\n",
      "3\n",
      "5\n",
      "8\n",
      "13\n",
      "21\n",
      "34\n",
      "55\n",
      "89\n",
      "144\n",
      "233\n",
      "377\n",
      "610\n",
      "987\n"
     ]
    }
   ],
   "source": [
    "p = Tugas1(1000)"
   ]
  },
  {
   "cell_type": "code",
   "execution_count": null,
   "metadata": {},
   "outputs": [],
   "source": []
  }
 ],
 "metadata": {
  "kernelspec": {
   "display_name": "Python 3",
   "language": "python",
   "name": "python3"
  },
  "language_info": {
   "codemirror_mode": {
    "name": "ipython",
    "version": 3
   },
   "file_extension": ".py",
   "mimetype": "text/x-python",
   "name": "python",
   "nbconvert_exporter": "python",
   "pygments_lexer": "ipython3",
   "version": "3.7.2"
  }
 },
 "nbformat": 4,
 "nbformat_minor": 2
}
